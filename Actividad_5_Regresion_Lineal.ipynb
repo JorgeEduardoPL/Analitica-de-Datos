{
  "nbformat": 4,
  "nbformat_minor": 0,
  "metadata": {
    "colab": {
      "provenance": []
    },
    "kernelspec": {
      "name": "python3",
      "display_name": "Python 3"
    },
    "language_info": {
      "name": "python"
    }
  },
  "cells": [
    {
      "cell_type": "code",
      "execution_count": 121,
      "metadata": {
        "id": "pIDCTct8LHiu"
      },
      "outputs": [],
      "source": [
        "# Importar librerias\n",
        "import pandas as pd\n",
        "import numpy as np\n",
        "import matplotlib.pyplot as plt\n",
        "import seaborn as sns\n",
        "from turtle import color"
      ]
    },
    {
      "cell_type": "code",
      "source": [
        "# Subir base de Datos\n",
        "df = pd.read_csv('cuentas.csv', encoding='latin')\n",
        "\n",
        "df.head(5)"
      ],
      "metadata": {
        "colab": {
          "base_uri": "https://localhost:8080/",
          "height": 538
        },
        "id": "b1nmbZAmLX-5",
        "outputId": "bf064a66-f294-4825-8d61-ce9d4fd3a296"
      },
      "execution_count": 80,
      "outputs": [
        {
          "output_type": "stream",
          "name": "stderr",
          "text": [
            "<ipython-input-80-307cebdb785c>:2: DtypeWarning: Columns (26,31,33,34) have mixed types. Specify dtype option on import or set low_memory=False.\n",
            "  df = pd.read_csv('cuentas.csv', encoding='latin')\n"
          ]
        },
        {
          "output_type": "execute_result",
          "data": {
            "text/plain": [
              "   folio       tag  folio_solicitud             fecha     marca  \\\n",
              "0      3  HDNAWQ3A               30  12/11/2021 19:00       ZTE   \n",
              "1      4  M418YNR4               33  12/11/2021 19:15  MOTOROLA   \n",
              "2      5  SZ7V3NZT               37  13/11/2021 14:13       ZTE   \n",
              "3      6  9I08UIQZ               38  13/11/2021 15:45       ZTE   \n",
              "4      7  JMF4LKYU               44  13/11/2021 16:10  MOTOROLA   \n",
              "\n",
              "                         modelo plazo  precio  enganche  descuento  semana  \\\n",
              "0            Blade A3 2020 RO B   26S  1949.0     780.0        0.0      81   \n",
              "1  LTE XT2097-12 E7I POWER Azul   13S  2999.0    1050.0        0.0     225   \n",
              "2            BLADE A3 2020 Gris   13S  1959.0     490.0        0.0     170   \n",
              "3            BLADE A3 2020 Gris   13S  1959.0     490.0        0.0     170   \n",
              "4                         G10 B   39S  4299.0    1075.0        0.0     178   \n",
              "\n",
              "   monto_financiado  costo_total  monto_accesorios  \\\n",
              "0            1169.0         2106               0.0   \n",
              "1            1949.0         2925               0.0   \n",
              "2            1469.0         2210               0.0   \n",
              "3            1469.0         2210               0.0   \n",
              "4            3224.0         6942               0.0   \n",
              "\n",
              "                      agente_venta dis_venta  status  fraude   empresa  \\\n",
              "0  Sintia Verenice Tenorio Perez E   mic0437       2       0  microtec   \n",
              "1            Alvaro Rafael Pascual    mic015       2       0  microtec   \n",
              "2  Sintia Verenice Tenorio Perez E   mic0437       3       0  microtec   \n",
              "3       Luz Aylin Hernandez Lopez1   mic0748       2       0  microtec   \n",
              "4  Sintia Verenice Tenorio Perez E   mic0437       1       0  microtec   \n",
              "\n",
              "   inversion  pagos_realizados  reautorizacion fecha_ultimo_pago  \\\n",
              "0          0                 0               0               NaN   \n",
              "1          0                 0               0               NaN   \n",
              "2          0                 0               0               NaN   \n",
              "3          0                 0               0               NaN   \n",
              "4          0                 0               0  05/03/2022 00:00   \n",
              "\n",
              "  fecha_pago_proximo status_cuenta  puntos     riesgo  porc_enganche  \\\n",
              "0                NaN           NaN     NaN        NaN            NaN   \n",
              "1                NaN           NaN     NaN        NaN            NaN   \n",
              "2                NaN           NaN     NaN  Cancelado            0.0   \n",
              "3                NaN           NaN     NaN        NaN            NaN   \n",
              "4   12/03/2022 00:00          Mora     0.0          0            0.0   \n",
              "\n",
              "   porc_tasa  score_buro razones_buro semana_actual codigo_postal Unnamed: 33  \\\n",
              "0        0.0         0.0            0           0.0             0         NaN   \n",
              "1        0.0         0.0            0           0.0             0         NaN   \n",
              "2        0.0         0.0            0           0.0           NaN         NaN   \n",
              "3        0.0         0.0            0           0.0             0         NaN   \n",
              "4        0.0         0.0          NaN           NaN            74         NaN   \n",
              "\n",
              "  Unnamed: 34  Unnamed: 35  Unnamed: 36  \n",
              "0         NaN         26.0          NaN  \n",
              "1         NaN         13.0          NaN  \n",
              "2          74          NaN          NaN  \n",
              "3         NaN         13.0          NaN  \n",
              "4         NaN          NaN          NaN  "
            ],
            "text/html": [
              "\n",
              "  <div id=\"df-ecab3f32-bc7e-4291-9862-d91b61f20b0b\" class=\"colab-df-container\">\n",
              "    <div>\n",
              "<style scoped>\n",
              "    .dataframe tbody tr th:only-of-type {\n",
              "        vertical-align: middle;\n",
              "    }\n",
              "\n",
              "    .dataframe tbody tr th {\n",
              "        vertical-align: top;\n",
              "    }\n",
              "\n",
              "    .dataframe thead th {\n",
              "        text-align: right;\n",
              "    }\n",
              "</style>\n",
              "<table border=\"1\" class=\"dataframe\">\n",
              "  <thead>\n",
              "    <tr style=\"text-align: right;\">\n",
              "      <th></th>\n",
              "      <th>folio</th>\n",
              "      <th>tag</th>\n",
              "      <th>folio_solicitud</th>\n",
              "      <th>fecha</th>\n",
              "      <th>marca</th>\n",
              "      <th>modelo</th>\n",
              "      <th>plazo</th>\n",
              "      <th>precio</th>\n",
              "      <th>enganche</th>\n",
              "      <th>descuento</th>\n",
              "      <th>semana</th>\n",
              "      <th>monto_financiado</th>\n",
              "      <th>costo_total</th>\n",
              "      <th>monto_accesorios</th>\n",
              "      <th>agente_venta</th>\n",
              "      <th>dis_venta</th>\n",
              "      <th>status</th>\n",
              "      <th>fraude</th>\n",
              "      <th>empresa</th>\n",
              "      <th>inversion</th>\n",
              "      <th>pagos_realizados</th>\n",
              "      <th>reautorizacion</th>\n",
              "      <th>fecha_ultimo_pago</th>\n",
              "      <th>fecha_pago_proximo</th>\n",
              "      <th>status_cuenta</th>\n",
              "      <th>puntos</th>\n",
              "      <th>riesgo</th>\n",
              "      <th>porc_enganche</th>\n",
              "      <th>porc_tasa</th>\n",
              "      <th>score_buro</th>\n",
              "      <th>razones_buro</th>\n",
              "      <th>semana_actual</th>\n",
              "      <th>codigo_postal</th>\n",
              "      <th>Unnamed: 33</th>\n",
              "      <th>Unnamed: 34</th>\n",
              "      <th>Unnamed: 35</th>\n",
              "      <th>Unnamed: 36</th>\n",
              "    </tr>\n",
              "  </thead>\n",
              "  <tbody>\n",
              "    <tr>\n",
              "      <th>0</th>\n",
              "      <td>3</td>\n",
              "      <td>HDNAWQ3A</td>\n",
              "      <td>30</td>\n",
              "      <td>12/11/2021 19:00</td>\n",
              "      <td>ZTE</td>\n",
              "      <td>Blade A3 2020 RO B</td>\n",
              "      <td>26S</td>\n",
              "      <td>1949.0</td>\n",
              "      <td>780.0</td>\n",
              "      <td>0.0</td>\n",
              "      <td>81</td>\n",
              "      <td>1169.0</td>\n",
              "      <td>2106</td>\n",
              "      <td>0.0</td>\n",
              "      <td>Sintia Verenice Tenorio Perez E</td>\n",
              "      <td>mic0437</td>\n",
              "      <td>2</td>\n",
              "      <td>0</td>\n",
              "      <td>microtec</td>\n",
              "      <td>0</td>\n",
              "      <td>0</td>\n",
              "      <td>0</td>\n",
              "      <td>NaN</td>\n",
              "      <td>NaN</td>\n",
              "      <td>NaN</td>\n",
              "      <td>NaN</td>\n",
              "      <td>NaN</td>\n",
              "      <td>NaN</td>\n",
              "      <td>0.0</td>\n",
              "      <td>0.0</td>\n",
              "      <td>0</td>\n",
              "      <td>0.0</td>\n",
              "      <td>0</td>\n",
              "      <td>NaN</td>\n",
              "      <td>NaN</td>\n",
              "      <td>26.0</td>\n",
              "      <td>NaN</td>\n",
              "    </tr>\n",
              "    <tr>\n",
              "      <th>1</th>\n",
              "      <td>4</td>\n",
              "      <td>M418YNR4</td>\n",
              "      <td>33</td>\n",
              "      <td>12/11/2021 19:15</td>\n",
              "      <td>MOTOROLA</td>\n",
              "      <td>LTE XT2097-12 E7I POWER Azul</td>\n",
              "      <td>13S</td>\n",
              "      <td>2999.0</td>\n",
              "      <td>1050.0</td>\n",
              "      <td>0.0</td>\n",
              "      <td>225</td>\n",
              "      <td>1949.0</td>\n",
              "      <td>2925</td>\n",
              "      <td>0.0</td>\n",
              "      <td>Alvaro Rafael Pascual</td>\n",
              "      <td>mic015</td>\n",
              "      <td>2</td>\n",
              "      <td>0</td>\n",
              "      <td>microtec</td>\n",
              "      <td>0</td>\n",
              "      <td>0</td>\n",
              "      <td>0</td>\n",
              "      <td>NaN</td>\n",
              "      <td>NaN</td>\n",
              "      <td>NaN</td>\n",
              "      <td>NaN</td>\n",
              "      <td>NaN</td>\n",
              "      <td>NaN</td>\n",
              "      <td>0.0</td>\n",
              "      <td>0.0</td>\n",
              "      <td>0</td>\n",
              "      <td>0.0</td>\n",
              "      <td>0</td>\n",
              "      <td>NaN</td>\n",
              "      <td>NaN</td>\n",
              "      <td>13.0</td>\n",
              "      <td>NaN</td>\n",
              "    </tr>\n",
              "    <tr>\n",
              "      <th>2</th>\n",
              "      <td>5</td>\n",
              "      <td>SZ7V3NZT</td>\n",
              "      <td>37</td>\n",
              "      <td>13/11/2021 14:13</td>\n",
              "      <td>ZTE</td>\n",
              "      <td>BLADE A3 2020 Gris</td>\n",
              "      <td>13S</td>\n",
              "      <td>1959.0</td>\n",
              "      <td>490.0</td>\n",
              "      <td>0.0</td>\n",
              "      <td>170</td>\n",
              "      <td>1469.0</td>\n",
              "      <td>2210</td>\n",
              "      <td>0.0</td>\n",
              "      <td>Sintia Verenice Tenorio Perez E</td>\n",
              "      <td>mic0437</td>\n",
              "      <td>3</td>\n",
              "      <td>0</td>\n",
              "      <td>microtec</td>\n",
              "      <td>0</td>\n",
              "      <td>0</td>\n",
              "      <td>0</td>\n",
              "      <td>NaN</td>\n",
              "      <td>NaN</td>\n",
              "      <td>NaN</td>\n",
              "      <td>NaN</td>\n",
              "      <td>Cancelado</td>\n",
              "      <td>0.0</td>\n",
              "      <td>0.0</td>\n",
              "      <td>0.0</td>\n",
              "      <td>0</td>\n",
              "      <td>0.0</td>\n",
              "      <td>NaN</td>\n",
              "      <td>NaN</td>\n",
              "      <td>74</td>\n",
              "      <td>NaN</td>\n",
              "      <td>NaN</td>\n",
              "    </tr>\n",
              "    <tr>\n",
              "      <th>3</th>\n",
              "      <td>6</td>\n",
              "      <td>9I08UIQZ</td>\n",
              "      <td>38</td>\n",
              "      <td>13/11/2021 15:45</td>\n",
              "      <td>ZTE</td>\n",
              "      <td>BLADE A3 2020 Gris</td>\n",
              "      <td>13S</td>\n",
              "      <td>1959.0</td>\n",
              "      <td>490.0</td>\n",
              "      <td>0.0</td>\n",
              "      <td>170</td>\n",
              "      <td>1469.0</td>\n",
              "      <td>2210</td>\n",
              "      <td>0.0</td>\n",
              "      <td>Luz Aylin Hernandez Lopez1</td>\n",
              "      <td>mic0748</td>\n",
              "      <td>2</td>\n",
              "      <td>0</td>\n",
              "      <td>microtec</td>\n",
              "      <td>0</td>\n",
              "      <td>0</td>\n",
              "      <td>0</td>\n",
              "      <td>NaN</td>\n",
              "      <td>NaN</td>\n",
              "      <td>NaN</td>\n",
              "      <td>NaN</td>\n",
              "      <td>NaN</td>\n",
              "      <td>NaN</td>\n",
              "      <td>0.0</td>\n",
              "      <td>0.0</td>\n",
              "      <td>0</td>\n",
              "      <td>0.0</td>\n",
              "      <td>0</td>\n",
              "      <td>NaN</td>\n",
              "      <td>NaN</td>\n",
              "      <td>13.0</td>\n",
              "      <td>NaN</td>\n",
              "    </tr>\n",
              "    <tr>\n",
              "      <th>4</th>\n",
              "      <td>7</td>\n",
              "      <td>JMF4LKYU</td>\n",
              "      <td>44</td>\n",
              "      <td>13/11/2021 16:10</td>\n",
              "      <td>MOTOROLA</td>\n",
              "      <td>G10 B</td>\n",
              "      <td>39S</td>\n",
              "      <td>4299.0</td>\n",
              "      <td>1075.0</td>\n",
              "      <td>0.0</td>\n",
              "      <td>178</td>\n",
              "      <td>3224.0</td>\n",
              "      <td>6942</td>\n",
              "      <td>0.0</td>\n",
              "      <td>Sintia Verenice Tenorio Perez E</td>\n",
              "      <td>mic0437</td>\n",
              "      <td>1</td>\n",
              "      <td>0</td>\n",
              "      <td>microtec</td>\n",
              "      <td>0</td>\n",
              "      <td>0</td>\n",
              "      <td>0</td>\n",
              "      <td>05/03/2022 00:00</td>\n",
              "      <td>12/03/2022 00:00</td>\n",
              "      <td>Mora</td>\n",
              "      <td>0.0</td>\n",
              "      <td>0</td>\n",
              "      <td>0.0</td>\n",
              "      <td>0.0</td>\n",
              "      <td>0.0</td>\n",
              "      <td>NaN</td>\n",
              "      <td>NaN</td>\n",
              "      <td>74</td>\n",
              "      <td>NaN</td>\n",
              "      <td>NaN</td>\n",
              "      <td>NaN</td>\n",
              "      <td>NaN</td>\n",
              "    </tr>\n",
              "  </tbody>\n",
              "</table>\n",
              "</div>\n",
              "    <div class=\"colab-df-buttons\">\n",
              "\n",
              "  <div class=\"colab-df-container\">\n",
              "    <button class=\"colab-df-convert\" onclick=\"convertToInteractive('df-ecab3f32-bc7e-4291-9862-d91b61f20b0b')\"\n",
              "            title=\"Convert this dataframe to an interactive table.\"\n",
              "            style=\"display:none;\">\n",
              "\n",
              "  <svg xmlns=\"http://www.w3.org/2000/svg\" height=\"24px\" viewBox=\"0 -960 960 960\">\n",
              "    <path d=\"M120-120v-720h720v720H120Zm60-500h600v-160H180v160Zm220 220h160v-160H400v160Zm0 220h160v-160H400v160ZM180-400h160v-160H180v160Zm440 0h160v-160H620v160ZM180-180h160v-160H180v160Zm440 0h160v-160H620v160Z\"/>\n",
              "  </svg>\n",
              "    </button>\n",
              "\n",
              "  <style>\n",
              "    .colab-df-container {\n",
              "      display:flex;\n",
              "      gap: 12px;\n",
              "    }\n",
              "\n",
              "    .colab-df-convert {\n",
              "      background-color: #E8F0FE;\n",
              "      border: none;\n",
              "      border-radius: 50%;\n",
              "      cursor: pointer;\n",
              "      display: none;\n",
              "      fill: #1967D2;\n",
              "      height: 32px;\n",
              "      padding: 0 0 0 0;\n",
              "      width: 32px;\n",
              "    }\n",
              "\n",
              "    .colab-df-convert:hover {\n",
              "      background-color: #E2EBFA;\n",
              "      box-shadow: 0px 1px 2px rgba(60, 64, 67, 0.3), 0px 1px 3px 1px rgba(60, 64, 67, 0.15);\n",
              "      fill: #174EA6;\n",
              "    }\n",
              "\n",
              "    .colab-df-buttons div {\n",
              "      margin-bottom: 4px;\n",
              "    }\n",
              "\n",
              "    [theme=dark] .colab-df-convert {\n",
              "      background-color: #3B4455;\n",
              "      fill: #D2E3FC;\n",
              "    }\n",
              "\n",
              "    [theme=dark] .colab-df-convert:hover {\n",
              "      background-color: #434B5C;\n",
              "      box-shadow: 0px 1px 3px 1px rgba(0, 0, 0, 0.15);\n",
              "      filter: drop-shadow(0px 1px 2px rgba(0, 0, 0, 0.3));\n",
              "      fill: #FFFFFF;\n",
              "    }\n",
              "  </style>\n",
              "\n",
              "    <script>\n",
              "      const buttonEl =\n",
              "        document.querySelector('#df-ecab3f32-bc7e-4291-9862-d91b61f20b0b button.colab-df-convert');\n",
              "      buttonEl.style.display =\n",
              "        google.colab.kernel.accessAllowed ? 'block' : 'none';\n",
              "\n",
              "      async function convertToInteractive(key) {\n",
              "        const element = document.querySelector('#df-ecab3f32-bc7e-4291-9862-d91b61f20b0b');\n",
              "        const dataTable =\n",
              "          await google.colab.kernel.invokeFunction('convertToInteractive',\n",
              "                                                    [key], {});\n",
              "        if (!dataTable) return;\n",
              "\n",
              "        const docLinkHtml = 'Like what you see? Visit the ' +\n",
              "          '<a target=\"_blank\" href=https://colab.research.google.com/notebooks/data_table.ipynb>data table notebook</a>'\n",
              "          + ' to learn more about interactive tables.';\n",
              "        element.innerHTML = '';\n",
              "        dataTable['output_type'] = 'display_data';\n",
              "        await google.colab.output.renderOutput(dataTable, element);\n",
              "        const docLink = document.createElement('div');\n",
              "        docLink.innerHTML = docLinkHtml;\n",
              "        element.appendChild(docLink);\n",
              "      }\n",
              "    </script>\n",
              "  </div>\n",
              "\n",
              "\n",
              "<div id=\"df-096dc802-b5c3-4321-922c-c34d6256757c\">\n",
              "  <button class=\"colab-df-quickchart\" onclick=\"quickchart('df-096dc802-b5c3-4321-922c-c34d6256757c')\"\n",
              "            title=\"Suggest charts\"\n",
              "            style=\"display:none;\">\n",
              "\n",
              "<svg xmlns=\"http://www.w3.org/2000/svg\" height=\"24px\"viewBox=\"0 0 24 24\"\n",
              "     width=\"24px\">\n",
              "    <g>\n",
              "        <path d=\"M19 3H5c-1.1 0-2 .9-2 2v14c0 1.1.9 2 2 2h14c1.1 0 2-.9 2-2V5c0-1.1-.9-2-2-2zM9 17H7v-7h2v7zm4 0h-2V7h2v10zm4 0h-2v-4h2v4z\"/>\n",
              "    </g>\n",
              "</svg>\n",
              "  </button>\n",
              "\n",
              "<style>\n",
              "  .colab-df-quickchart {\n",
              "      --bg-color: #E8F0FE;\n",
              "      --fill-color: #1967D2;\n",
              "      --hover-bg-color: #E2EBFA;\n",
              "      --hover-fill-color: #174EA6;\n",
              "      --disabled-fill-color: #AAA;\n",
              "      --disabled-bg-color: #DDD;\n",
              "  }\n",
              "\n",
              "  [theme=dark] .colab-df-quickchart {\n",
              "      --bg-color: #3B4455;\n",
              "      --fill-color: #D2E3FC;\n",
              "      --hover-bg-color: #434B5C;\n",
              "      --hover-fill-color: #FFFFFF;\n",
              "      --disabled-bg-color: #3B4455;\n",
              "      --disabled-fill-color: #666;\n",
              "  }\n",
              "\n",
              "  .colab-df-quickchart {\n",
              "    background-color: var(--bg-color);\n",
              "    border: none;\n",
              "    border-radius: 50%;\n",
              "    cursor: pointer;\n",
              "    display: none;\n",
              "    fill: var(--fill-color);\n",
              "    height: 32px;\n",
              "    padding: 0;\n",
              "    width: 32px;\n",
              "  }\n",
              "\n",
              "  .colab-df-quickchart:hover {\n",
              "    background-color: var(--hover-bg-color);\n",
              "    box-shadow: 0 1px 2px rgba(60, 64, 67, 0.3), 0 1px 3px 1px rgba(60, 64, 67, 0.15);\n",
              "    fill: var(--button-hover-fill-color);\n",
              "  }\n",
              "\n",
              "  .colab-df-quickchart-complete:disabled,\n",
              "  .colab-df-quickchart-complete:disabled:hover {\n",
              "    background-color: var(--disabled-bg-color);\n",
              "    fill: var(--disabled-fill-color);\n",
              "    box-shadow: none;\n",
              "  }\n",
              "\n",
              "  .colab-df-spinner {\n",
              "    border: 2px solid var(--fill-color);\n",
              "    border-color: transparent;\n",
              "    border-bottom-color: var(--fill-color);\n",
              "    animation:\n",
              "      spin 1s steps(1) infinite;\n",
              "  }\n",
              "\n",
              "  @keyframes spin {\n",
              "    0% {\n",
              "      border-color: transparent;\n",
              "      border-bottom-color: var(--fill-color);\n",
              "      border-left-color: var(--fill-color);\n",
              "    }\n",
              "    20% {\n",
              "      border-color: transparent;\n",
              "      border-left-color: var(--fill-color);\n",
              "      border-top-color: var(--fill-color);\n",
              "    }\n",
              "    30% {\n",
              "      border-color: transparent;\n",
              "      border-left-color: var(--fill-color);\n",
              "      border-top-color: var(--fill-color);\n",
              "      border-right-color: var(--fill-color);\n",
              "    }\n",
              "    40% {\n",
              "      border-color: transparent;\n",
              "      border-right-color: var(--fill-color);\n",
              "      border-top-color: var(--fill-color);\n",
              "    }\n",
              "    60% {\n",
              "      border-color: transparent;\n",
              "      border-right-color: var(--fill-color);\n",
              "    }\n",
              "    80% {\n",
              "      border-color: transparent;\n",
              "      border-right-color: var(--fill-color);\n",
              "      border-bottom-color: var(--fill-color);\n",
              "    }\n",
              "    90% {\n",
              "      border-color: transparent;\n",
              "      border-bottom-color: var(--fill-color);\n",
              "    }\n",
              "  }\n",
              "</style>\n",
              "\n",
              "  <script>\n",
              "    async function quickchart(key) {\n",
              "      const quickchartButtonEl =\n",
              "        document.querySelector('#' + key + ' button');\n",
              "      quickchartButtonEl.disabled = true;  // To prevent multiple clicks.\n",
              "      quickchartButtonEl.classList.add('colab-df-spinner');\n",
              "      try {\n",
              "        const charts = await google.colab.kernel.invokeFunction(\n",
              "            'suggestCharts', [key], {});\n",
              "      } catch (error) {\n",
              "        console.error('Error during call to suggestCharts:', error);\n",
              "      }\n",
              "      quickchartButtonEl.classList.remove('colab-df-spinner');\n",
              "      quickchartButtonEl.classList.add('colab-df-quickchart-complete');\n",
              "    }\n",
              "    (() => {\n",
              "      let quickchartButtonEl =\n",
              "        document.querySelector('#df-096dc802-b5c3-4321-922c-c34d6256757c button');\n",
              "      quickchartButtonEl.style.display =\n",
              "        google.colab.kernel.accessAllowed ? 'block' : 'none';\n",
              "    })();\n",
              "  </script>\n",
              "</div>\n",
              "    </div>\n",
              "  </div>\n"
            ]
          },
          "metadata": {},
          "execution_count": 80
        }
      ]
    },
    {
      "cell_type": "code",
      "source": [
        "df.info()"
      ],
      "metadata": {
        "colab": {
          "base_uri": "https://localhost:8080/"
        },
        "id": "AqMELWT7kUoP",
        "outputId": "c62f6b44-b823-4dcf-ad98-cd7bd511a912"
      },
      "execution_count": 113,
      "outputs": [
        {
          "output_type": "stream",
          "name": "stdout",
          "text": [
            "<class 'pandas.core.frame.DataFrame'>\n",
            "RangeIndex: 22735 entries, 0 to 22734\n",
            "Data columns (total 37 columns):\n",
            " #   Column              Non-Null Count  Dtype  \n",
            "---  ------              --------------  -----  \n",
            " 0   folio               22735 non-null  int64  \n",
            " 1   tag                 22735 non-null  object \n",
            " 2   folio_solicitud     22735 non-null  int64  \n",
            " 3   fecha               22735 non-null  object \n",
            " 4   marca               22735 non-null  object \n",
            " 5   modelo              22735 non-null  object \n",
            " 6   plazo               22735 non-null  int64  \n",
            " 7   precio              22735 non-null  float64\n",
            " 8   enganche            22735 non-null  float64\n",
            " 9   descuento           22735 non-null  float64\n",
            " 10  semana              22735 non-null  int64  \n",
            " 11  monto_financiado    22735 non-null  float64\n",
            " 12  costo_total         22735 non-null  float64\n",
            " 13  monto_accesorios    22735 non-null  float64\n",
            " 14  agente_venta        22735 non-null  object \n",
            " 15  dis_venta           22735 non-null  object \n",
            " 16  status              22735 non-null  int64  \n",
            " 17  fraude              22735 non-null  int64  \n",
            " 18  empresa             22722 non-null  object \n",
            " 19  inversion           22735 non-null  int64  \n",
            " 20  pagos_realizados    22735 non-null  int64  \n",
            " 21  reautorizacion      22735 non-null  int64  \n",
            " 22  fecha_ultimo_pago   19379 non-null  object \n",
            " 23  fecha_pago_proximo  19379 non-null  object \n",
            " 24  status_cuenta       18538 non-null  object \n",
            " 25  puntos              19140 non-null  float64\n",
            " 26  riesgo              22735 non-null  float64\n",
            " 27  porc_enganche       20262 non-null  float64\n",
            " 28  porc_tasa           22735 non-null  float64\n",
            " 29  score_buro          22735 non-null  float64\n",
            " 30  razones_buro        18230 non-null  object \n",
            " 31  semana_actual       18230 non-null  object \n",
            " 32  codigo_postal       22050 non-null  object \n",
            " 33  Unnamed: 33         859 non-null    object \n",
            " 34  Unnamed: 34         1203 non-null   object \n",
            " 35  Unnamed: 35         2473 non-null   float64\n",
            " 36  Unnamed: 36         1 non-null      float64\n",
            "dtypes: float64(13), int64(9), object(15)\n",
            "memory usage: 6.4+ MB\n"
          ]
        }
      ]
    },
    {
      "cell_type": "markdown",
      "source": [
        "**Limpiar columnas**"
      ],
      "metadata": {
        "id": "w0qSbp7HYETN"
      }
    },
    {
      "cell_type": "code",
      "source": [
        "# Eliminar el signo \"S\" de una columna \"Plazo\"\n",
        "df['plazo'] = df['plazo'].str.replace('S', '')\n",
        "df['plazo'] = df['plazo'].astype(int)\n",
        "\n",
        "# Sustituirlos strings Atraso, Cancelado y Fraude por la constante \"0\"\n",
        "df['riesgo']=df['riesgo'].str.replace('Atraso', '0')\n",
        "df['riesgo']=df['riesgo'].str.replace('Cancelado', '0')\n",
        "df['riesgo']=df['riesgo'].str.replace('Fraude', '0')\n",
        "\n",
        "#Conversión de tipo de dato de columna de tipo Object a int\n",
        "df['costo_total']= df['costo_total'].astype(float)\n",
        "\n",
        "#Sustituyo valores nulos por el numero \"0\"\n",
        "#Tercer método de sustitución de valores nulos\n",
        "#Sustituir valores nulos por un valor numérico en  concreto\n",
        "df[\"porc_enganche\"]= df[\"porc_enganche\"].fillna(0)"
      ],
      "metadata": {
        "id": "c4OSBNhQXM84"
      },
      "execution_count": 116,
      "outputs": []
    },
    {
      "cell_type": "markdown",
      "source": [
        "**Sacar Gráficas**"
      ],
      "metadata": {
        "id": "rjHCtsaPZ3qo"
      }
    },
    {
      "cell_type": "code",
      "source": [
        "sns.scatterplot(x='enganche', y='riesgo', color=\"blue\", data=df)"
      ],
      "metadata": {
        "colab": {
          "base_uri": "https://localhost:8080/",
          "height": 466
        },
        "id": "KPXMPUYnOQ4t",
        "outputId": "a5e1616b-5e43-4eb7-a21e-5890fad50a0b"
      },
      "execution_count": 123,
      "outputs": [
        {
          "output_type": "execute_result",
          "data": {
            "text/plain": [
              "<Axes: xlabel='enganche', ylabel='riesgo'>"
            ]
          },
          "metadata": {},
          "execution_count": 123
        },
        {
          "output_type": "display_data",
          "data": {
            "text/plain": [
              "<Figure size 640x480 with 1 Axes>"
            ],
            "image/png": "[encoded data removed]"
          },
          "metadata": {}
        }
      ]
    },
    {
      "cell_type": "code",
      "source": [
        "sns.scatterplot(x='precio', y='plazo', color=\"red\", data=df)"
      ],
      "metadata": {
        "colab": {
          "base_uri": "https://localhost:8080/",
          "height": 466
        },
        "id": "Wf7wwCtClQTE",
        "outputId": "a2db655a-aa20-4241-9ccc-3a0a8574f67d"
      },
      "execution_count": 124,
      "outputs": [
        {
          "output_type": "execute_result",
          "data": {
            "text/plain": [
              "<Axes: xlabel='precio', ylabel='plazo'>"
            ]
          },
          "metadata": {},
          "execution_count": 124
        },
        {
          "output_type": "display_data",
          "data": {
            "text/plain": [
              "<Figure size 640x480 with 1 Axes>"
            ],
            "image/png": "[encoded data removed]"
          },
          "metadata": {}
        }
      ]
    },
    {
      "cell_type": "code",
      "source": [
        "sns.scatterplot(x='costo_total', y='monto_financiado', color=\"green\", data=df)"
      ],
      "metadata": {
        "colab": {
          "base_uri": "https://localhost:8080/",
          "height": 467
        },
        "id": "Hukkukt4a33S",
        "outputId": "e3dec41a-5ae5-4768-a7a2-00c558d72a68"
      },
      "execution_count": 125,
      "outputs": [
        {
          "output_type": "execute_result",
          "data": {
            "text/plain": [
              "<Axes: xlabel='costo_total', ylabel='monto_financiado'>"
            ]
          },
          "metadata": {},
          "execution_count": 125
        },
        {
          "output_type": "display_data",
          "data": {
            "text/plain": [
              "<Figure size 640x480 with 1 Axes>"
            ],
            "image/png": "[encoded data removed]"
          },
          "metadata": {}
        }
      ]
    },
    {
      "cell_type": "code",
      "source": [
        "sns.scatterplot(x='pagos_realizados', y='porc_enganche', color=\"orange\", data=df)"
      ],
      "metadata": {
        "colab": {
          "base_uri": "https://localhost:8080/",
          "height": 467
        },
        "id": "STqK_rCmlA1W",
        "outputId": "7bd6bbe9-e6dc-479b-d1ba-2af82570486a"
      },
      "execution_count": 126,
      "outputs": [
        {
          "output_type": "execute_result",
          "data": {
            "text/plain": [
              "<Axes: xlabel='pagos_realizados', ylabel='porc_enganche'>"
            ]
          },
          "metadata": {},
          "execution_count": 126
        },
        {
          "output_type": "display_data",
          "data": {
            "text/plain": [
              "<Figure size 640x480 with 1 Axes>"
            ],
            "image/png": "[encoded data removed]"
          },
          "metadata": {}
        }
      ]
    },
    {
      "cell_type": "code",
      "source": [
        "z# Definir modelo de regresion lineal\n",
        "from sklearn.linear_model import LinearRegression\n",
        "model = LinearRegression()\n",
        "\n",
        "# Y declarar variables dependientes e independientes para la regresión lineal"
      ],
      "metadata": {
        "id": "RrudRyPgP_wR"
      },
      "execution_count": 149,
      "outputs": []
    },
    {
      "cell_type": "markdown",
      "source": [
        "Modelo 1"
      ],
      "metadata": {
        "id": "2WRY7NWysO7R"
      }
    },
    {
      "cell_type": "code",
      "source": [
        "# Modelo Matematico 1\n",
        "Vars_Indep1= df[[\"enganche\"]]\n",
        "Var_Dep1= df[\"riesgo\"]\n",
        "model.fit(X=Vars_Indep1, y=Var_Dep1)\n",
        "model.__dict__"
      ],
      "metadata": {
        "colab": {
          "base_uri": "https://localhost:8080/"
        },
        "id": "KtUhu5LusFZR",
        "outputId": "05fa481f-3f4d-4e11-d66a-6b005b7d8530"
      },
      "execution_count": 153,
      "outputs": [
        {
          "output_type": "execute_result",
          "data": {
            "text/plain": [
              "{'fit_intercept': True,\n",
              " 'copy_X': True,\n",
              " 'n_jobs': None,\n",
              " 'positive': False,\n",
              " 'feature_names_in_': array(['enganche'], dtype=object),\n",
              " 'n_features_in_': 1,\n",
              " 'coef_': array([0.00601946]),\n",
              " 'rank_': 1,\n",
              " 'singular_': array([71873.82651082]),\n",
              " 'intercept_': -3.422566722440304}"
            ]
          },
          "metadata": {},
          "execution_count": 153
        }
      ]
    },
    {
      "cell_type": "code",
      "source": [
        "# Coeficiente Determinacion 1\n",
        "coef_Deter1 = model.score(X = Vars_Indep1, y = Var_Dep1)\n",
        "coef_Deter1"
      ],
      "metadata": {
        "colab": {
          "base_uri": "https://localhost:8080/"
        },
        "id": "LlfKWIENsDCg",
        "outputId": "1319da00-9230-4807-fd9a-170b555c0c02"
      },
      "execution_count": 155,
      "outputs": [
        {
          "output_type": "execute_result",
          "data": {
            "text/plain": [
              "0.042564202425108943"
            ]
          },
          "metadata": {},
          "execution_count": 155
        }
      ]
    },
    {
      "cell_type": "code",
      "source": [
        "# Coeficiente Correlacion 1\n",
        "coef_Correl1 = np.sqrt(coef_Deter1)\n",
        "coef_Correl1"
      ],
      "metadata": {
        "colab": {
          "base_uri": "https://localhost:8080/"
        },
        "id": "KTHr2Tuasg_3",
        "outputId": "9a6ba5d9-7619-418b-bf55-97fc77f4ff0f"
      },
      "execution_count": 156,
      "outputs": [
        {
          "output_type": "execute_result",
          "data": {
            "text/plain": [
              "0.20631093627122374"
            ]
          },
          "metadata": {},
          "execution_count": 156
        }
      ]
    },
    {
      "cell_type": "markdown",
      "source": [
        "Modelo 2"
      ],
      "metadata": {
        "id": "kyxZf3QhtroW"
      }
    },
    {
      "cell_type": "code",
      "source": [
        "# Modelo Matematico 2\n",
        "Vars_Indep2= df[[\"precio\"]]\n",
        "Var_Dep2= df[\"plazo\"]\n",
        "model.fit(X=Vars_Indep2, y=Var_Dep2)\n",
        "model.__dict__"
      ],
      "metadata": {
        "colab": {
          "base_uri": "https://localhost:8080/"
        },
        "id": "vV9HLLmimqBq",
        "outputId": "19baea68-2147-4ba5-de72-62620c92cba0"
      },
      "execution_count": 158,
      "outputs": [
        {
          "output_type": "execute_result",
          "data": {
            "text/plain": [
              "{'fit_intercept': True,\n",
              " 'copy_X': True,\n",
              " 'n_jobs': None,\n",
              " 'positive': False,\n",
              " 'feature_names_in_': array(['precio'], dtype=object),\n",
              " 'n_features_in_': 1,\n",
              " 'coef_': array([0.00150129]),\n",
              " 'rank_': 1,\n",
              " 'singular_': array([205285.3032759]),\n",
              " 'intercept_': 19.90894959705299}"
            ]
          },
          "metadata": {},
          "execution_count": 158
        }
      ]
    },
    {
      "cell_type": "code",
      "source": [
        "# Coeficiente Determinacion 2\n",
        "coef_Deter2 = model.score(X = Vars_Indep2, y = Var_Dep2)\n",
        "coef_Deter2"
      ],
      "metadata": {
        "colab": {
          "base_uri": "https://localhost:8080/"
        },
        "id": "Ap16bvEjt7A4",
        "outputId": "296bed92-bcc3-44e4-c4eb-cead701251a8"
      },
      "execution_count": 159,
      "outputs": [
        {
          "output_type": "execute_result",
          "data": {
            "text/plain": [
              "0.041877006763330726"
            ]
          },
          "metadata": {},
          "execution_count": 159
        }
      ]
    },
    {
      "cell_type": "code",
      "source": [
        "# Coeficiente Correlacion 1\n",
        "coef_Correl2 = np.sqrt(coef_Deter2)\n",
        "coef_Correl2"
      ],
      "metadata": {
        "colab": {
          "base_uri": "https://localhost:8080/"
        },
        "id": "V_-aVeb9t6bb",
        "outputId": "9ad94e44-04da-43fb-844f-39838b7414b2"
      },
      "execution_count": 160,
      "outputs": [
        {
          "output_type": "execute_result",
          "data": {
            "text/plain": [
              "0.20463872254128915"
            ]
          },
          "metadata": {},
          "execution_count": 160
        }
      ]
    },
    {
      "cell_type": "markdown",
      "source": [
        "Modelo 3"
      ],
      "metadata": {
        "id": "CDjLQFZ4uuU8"
      }
    },
    {
      "cell_type": "code",
      "source": [
        "# Modelo Matematico 3\n",
        "Vars_Indep3= df[[\"costo_total\"]]\n",
        "Var_Dep3= df[\"monto_financiado\"]\n",
        "model.fit(X=Vars_Indep3, y=Var_Dep3)\n",
        "model.__dict__"
      ],
      "metadata": {
        "colab": {
          "base_uri": "https://localhost:8080/"
        },
        "id": "AFAyitbmmswh",
        "outputId": "36fbf98b-0eac-4297-8f14-bc718fda1889"
      },
      "execution_count": 161,
      "outputs": [
        {
          "output_type": "execute_result",
          "data": {
            "text/plain": [
              "{'fit_intercept': True,\n",
              " 'copy_X': True,\n",
              " 'n_jobs': None,\n",
              " 'positive': False,\n",
              " 'feature_names_in_': array(['costo_total'], dtype=object),\n",
              " 'n_features_in_': 1,\n",
              " 'coef_': array([0.42741682]),\n",
              " 'rank_': 1,\n",
              " 'singular_': array([359751.03527969]),\n",
              " 'intercept_': 639.9922581004103}"
            ]
          },
          "metadata": {},
          "execution_count": 161
        }
      ]
    },
    {
      "cell_type": "code",
      "source": [
        "# Coeficiente Determinacion 3\n",
        "coef_Deter3 = model.score(X = Vars_Indep3, y = Var_Dep3)\n",
        "coef_Deter3"
      ],
      "metadata": {
        "colab": {
          "base_uri": "https://localhost:8080/"
        },
        "id": "xrxvpAwCu1QC",
        "outputId": "171e3fbd-9ab0-4c69-9eb6-9182cca70d81"
      },
      "execution_count": 162,
      "outputs": [
        {
          "output_type": "execute_result",
          "data": {
            "text/plain": [
              "0.8646380417764322"
            ]
          },
          "metadata": {},
          "execution_count": 162
        }
      ]
    },
    {
      "cell_type": "code",
      "source": [
        "# Coeficiente Correlacion 3\n",
        "coef_Correl3 = np.sqrt(coef_Deter3)\n",
        "coef_Correl3"
      ],
      "metadata": {
        "colab": {
          "base_uri": "https://localhost:8080/"
        },
        "id": "cab8QVGOu8Mv",
        "outputId": "77b49f82-393c-4c60-e900-f1fe924196b6"
      },
      "execution_count": 163,
      "outputs": [
        {
          "output_type": "execute_result",
          "data": {
            "text/plain": [
              "0.929859151579653"
            ]
          },
          "metadata": {},
          "execution_count": 163
        }
      ]
    },
    {
      "cell_type": "markdown",
      "source": [
        "Modelo 4"
      ],
      "metadata": {
        "id": "HH-O2dzLvH0M"
      }
    },
    {
      "cell_type": "code",
      "source": [
        "# Modelo 4\n",
        "Vars_Indep4= df[[\"pagos_realizados\"]]\n",
        "Var_Dep4= df[\"porc_enganche\"]\n",
        "model.fit(X=Vars_Indep4, y=Var_Dep4)\n",
        "model.__dict__"
      ],
      "metadata": {
        "colab": {
          "base_uri": "https://localhost:8080/"
        },
        "id": "e17OiNnamtOQ",
        "outputId": "7f760b10-6663-4d1f-9cf8-52a0e17b7467"
      },
      "execution_count": 166,
      "outputs": [
        {
          "output_type": "execute_result",
          "data": {
            "text/plain": [
              "{'fit_intercept': True,\n",
              " 'copy_X': True,\n",
              " 'n_jobs': None,\n",
              " 'positive': False,\n",
              " 'feature_names_in_': array(['pagos_realizados'], dtype=object),\n",
              " 'n_features_in_': 1,\n",
              " 'coef_': array([-0.15132576]),\n",
              " 'rank_': 1,\n",
              " 'singular_': array([1463.82068582]),\n",
              " 'intercept_': 2.3432248342563584}"
            ]
          },
          "metadata": {},
          "execution_count": 166
        }
      ]
    },
    {
      "cell_type": "code",
      "source": [
        "# Coeficiente Determinacion 4\n",
        "coef_Deter4 = model.score(X = Vars_Indep4, y = Var_Dep4)\n",
        "coef_Deter4"
      ],
      "metadata": {
        "colab": {
          "base_uri": "https://localhost:8080/"
        },
        "id": "-zpB_x7rvQ3J",
        "outputId": "8f0195f6-7d08-42ef-ac8c-7c398ed4d69a"
      },
      "execution_count": 167,
      "outputs": [
        {
          "output_type": "execute_result",
          "data": {
            "text/plain": [
              "0.06523723314088559"
            ]
          },
          "metadata": {},
          "execution_count": 167
        }
      ]
    },
    {
      "cell_type": "code",
      "source": [
        "# Coeficiente Correlacion 4\n",
        "coef_Correl4 = np.sqrt(coef_Deter4)\n",
        "coef_Correl4"
      ],
      "metadata": {
        "colab": {
          "base_uri": "https://localhost:8080/"
        },
        "id": "d9LNGqYbvgub",
        "outputId": "f06d4e1c-ae1e-42df-e876-cb60d4d97622"
      },
      "execution_count": 168,
      "outputs": [
        {
          "output_type": "execute_result",
          "data": {
            "text/plain": [
              "0.25541580440702094"
            ]
          },
          "metadata": {},
          "execution_count": 168
        }
      ]
    },
    {
      "cell_type": "markdown",
      "source": [
        "- - -\n",
        "**Los modelos son los siguientes:**\n",
        "\n",
        "---\n",
        "             \n",
        "*Modelo Matemático 1:* 0.00601946x - 3.422566722440304\n",
        "\n",
        "*Modelo Determinación 1:* 0.042564202425108943\n",
        "\n",
        "*Modelo Correlación 1:* 0.20631093627122374\n",
        "\n",
        "---\n",
        "\n",
        "Modelo Matemático 2: 0.00150129x + 19.90894959705299\n",
        "\n",
        "*Modelo Determinación 2:* 0.041877006763330726\n",
        "\n",
        "*Modelo Correlación 2:* 0.20463872254128915\n",
        "\n",
        "---\n",
        "\n",
        "Modelo Matemático 3: 0.42741682x + 639.9922581004103\n",
        "\n",
        "*Modelo Determinación 3:* 0.8646380417764322\n",
        "\n",
        "*Modelo Correlación 3:* 0.929859151579653\n",
        "\n",
        "---\n",
        "\n",
        "*Modelo Matemático 4:* -0.15132576x + 2.3432248342563584\n",
        "\n",
        "*Modelo Determinación 4:* 0.06523723314088559\n",
        "\n",
        "*Modelo Correlación 4:* 0.25541580440702094\n",
        "\n",
        "---"
      ],
      "metadata": {
        "id": "AR8Uil1DRxdD"
      }
    }
  ]
}